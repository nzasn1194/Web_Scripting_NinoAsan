{
  "nbformat": 4,
  "nbformat_minor": 0,
  "metadata": {
    "colab": {
      "provenance": [],
      "authorship_tag": "ABX9TyNHU/1vc0G2vjSyX6i15k7u",
      "include_colab_link": true
    },
    "kernelspec": {
      "name": "python3",
      "display_name": "Python 3"
    },
    "language_info": {
      "name": "python"
    }
  },
  "cells": [
    {
      "cell_type": "markdown",
      "metadata": {
        "id": "view-in-github",
        "colab_type": "text"
      },
      "source": [
        "<a href=\"https://colab.research.google.com/github/nzasn1194/Web_Scripting_NinoAsan/blob/main/Untitled0.ipynb\" target=\"_parent\"><img src=\"https://colab.research.google.com/assets/colab-badge.svg\" alt=\"Open In Colab\"/></a>"
      ]
    },
    {
      "cell_type": "code",
      "execution_count": 1,
      "metadata": {
        "colab": {
          "base_uri": "https://localhost:8080/"
        },
        "id": "PK7HJEJt1oq8",
        "outputId": "0b43685c-23df-429f-a6a6-ea287a08abbc"
      },
      "outputs": [
        {
          "output_type": "stream",
          "name": "stdout",
          "text": [
            "Requirement already satisfied: requests in /usr/local/lib/python3.12/dist-packages (2.32.4)\n",
            "Requirement already satisfied: charset_normalizer<4,>=2 in /usr/local/lib/python3.12/dist-packages (from requests) (3.4.4)\n",
            "Requirement already satisfied: idna<4,>=2.5 in /usr/local/lib/python3.12/dist-packages (from requests) (3.11)\n",
            "Requirement already satisfied: urllib3<3,>=1.21.1 in /usr/local/lib/python3.12/dist-packages (from requests) (2.5.0)\n",
            "Requirement already satisfied: certifi>=2017.4.17 in /usr/local/lib/python3.12/dist-packages (from requests) (2025.10.5)\n",
            "Requirement already satisfied: beautifulsoup4 in /usr/local/lib/python3.12/dist-packages (4.13.5)\n",
            "Requirement already satisfied: soupsieve>1.2 in /usr/local/lib/python3.12/dist-packages (from beautifulsoup4) (2.8)\n",
            "Requirement already satisfied: typing-extensions>=4.0.0 in /usr/local/lib/python3.12/dist-packages (from beautifulsoup4) (4.15.0)\n"
          ]
        }
      ],
      "source": [
        "!pip install requests\n",
        "!pip install beautifulsoup4"
      ]
    },
    {
      "cell_type": "code",
      "source": [
        "import requests\n",
        "from bs4 import BeautifulSoup\n",
        "import pandas as pd"
      ],
      "metadata": {
        "id": "F5sHeWfC2C5e"
      },
      "execution_count": 2,
      "outputs": []
    },
    {
      "cell_type": "code",
      "source": [
        "base_url = \"https://books.toscrape.com/catalogue/page-{}.html\"\n",
        "titles = []\n",
        "prices = []\n",
        "availability = []\n",
        "ratings = []\n",
        "\n",
        "\n",
        "for page in range(1, 6):  # Scrape first 5 pages\n",
        "    url = base_url.format(page)\n",
        "    res = requests.get(url)\n",
        "    soup = BeautifulSoup(res.text, 'html.parser')\n",
        "    books = soup.find_all('article', class_='product_pod')\n",
        "\n",
        "\n",
        "    for book in books:\n",
        "        titles.append(book.h3.a['title'])\n",
        "        prices.append(book.find('p', class_='price_color').text)\n",
        "        availability.append(book.find('p', class_='instock availability').text.strip())\n",
        "        rating_class = book.p.get('class')[1]  # Example: 'Three'\n",
        "        ratings.append(rating_class)\n",
        "\n",
        "\n",
        "# Create DataFrame\n",
        "df = pd.DataFrame({\n",
        "    'title': titles,\n",
        "    'price': prices,\n",
        "    'availability': availability,\n",
        "    'rating': ratings\n",
        "})\n"
      ],
      "metadata": {
        "id": "s--QFxlA2Ica"
      },
      "execution_count": 3,
      "outputs": []
    }
  ]
}